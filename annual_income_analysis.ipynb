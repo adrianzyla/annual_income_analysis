{
 "cells": [
  {
   "cell_type": "code",
   "execution_count": 102,
   "metadata": {},
   "outputs": [],
   "source": [
    "import pandas as pd\n",
    "import numpy as np\n",
    "import matplotlib.pyplot as plt\n",
    "import seaborn as sns\n",
    "from scipy.stats import chi2_contingency\n",
    "import math "
   ]
  },
  {
   "cell_type": "markdown",
   "metadata": {},
   "source": [
    "Dane z https://www.kaggle.com/datasets/amirhosseinmirzaie/americancitizenincome/data"
   ]
  },
  {
   "cell_type": "code",
   "execution_count": 103,
   "metadata": {},
   "outputs": [],
   "source": [
    "df = pd.read_csv(\"/Users/aniamarjankowska/Documents/GitHub/annual_income_analysis/income.csv\")"
   ]
  },
  {
   "cell_type": "code",
   "execution_count": 104,
   "metadata": {},
   "outputs": [
    {
     "data": {
      "text/html": [
       "<div>\n",
       "<style scoped>\n",
       "    .dataframe tbody tr th:only-of-type {\n",
       "        vertical-align: middle;\n",
       "    }\n",
       "\n",
       "    .dataframe tbody tr th {\n",
       "        vertical-align: top;\n",
       "    }\n",
       "\n",
       "    .dataframe thead th {\n",
       "        text-align: right;\n",
       "    }\n",
       "</style>\n",
       "<table border=\"1\" class=\"dataframe\">\n",
       "  <thead>\n",
       "    <tr style=\"text-align: right;\">\n",
       "      <th></th>\n",
       "      <th>age</th>\n",
       "      <th>workclass</th>\n",
       "      <th>fnlwgt</th>\n",
       "      <th>education</th>\n",
       "      <th>education.num</th>\n",
       "      <th>marital.status</th>\n",
       "      <th>occupation</th>\n",
       "      <th>relationship</th>\n",
       "      <th>race</th>\n",
       "      <th>sex</th>\n",
       "      <th>capital.gain</th>\n",
       "      <th>capital.loss</th>\n",
       "      <th>hours.per.week</th>\n",
       "      <th>native.country</th>\n",
       "      <th>income</th>\n",
       "    </tr>\n",
       "  </thead>\n",
       "  <tbody>\n",
       "    <tr>\n",
       "      <th>0</th>\n",
       "      <td>40</td>\n",
       "      <td>Self-emp-not-inc</td>\n",
       "      <td>223881</td>\n",
       "      <td>Prof-school</td>\n",
       "      <td>15</td>\n",
       "      <td>Married-civ-spouse</td>\n",
       "      <td>Prof-specialty</td>\n",
       "      <td>Husband</td>\n",
       "      <td>White</td>\n",
       "      <td>Male</td>\n",
       "      <td>99999</td>\n",
       "      <td>0</td>\n",
       "      <td>70</td>\n",
       "      <td>United-States</td>\n",
       "      <td>&gt;50K</td>\n",
       "    </tr>\n",
       "    <tr>\n",
       "      <th>1</th>\n",
       "      <td>30</td>\n",
       "      <td>Private</td>\n",
       "      <td>149118</td>\n",
       "      <td>HS-grad</td>\n",
       "      <td>9</td>\n",
       "      <td>Divorced</td>\n",
       "      <td>Craft-repair</td>\n",
       "      <td>Not-in-family</td>\n",
       "      <td>White</td>\n",
       "      <td>Female</td>\n",
       "      <td>0</td>\n",
       "      <td>0</td>\n",
       "      <td>40</td>\n",
       "      <td>United-States</td>\n",
       "      <td>&lt;=50K</td>\n",
       "    </tr>\n",
       "    <tr>\n",
       "      <th>2</th>\n",
       "      <td>46</td>\n",
       "      <td>Private</td>\n",
       "      <td>109209</td>\n",
       "      <td>Some-college</td>\n",
       "      <td>10</td>\n",
       "      <td>Married-civ-spouse</td>\n",
       "      <td>Adm-clerical</td>\n",
       "      <td>Husband</td>\n",
       "      <td>White</td>\n",
       "      <td>Male</td>\n",
       "      <td>0</td>\n",
       "      <td>0</td>\n",
       "      <td>40</td>\n",
       "      <td>United-States</td>\n",
       "      <td>&gt;50K</td>\n",
       "    </tr>\n",
       "    <tr>\n",
       "      <th>3</th>\n",
       "      <td>32</td>\n",
       "      <td>Private</td>\n",
       "      <td>229566</td>\n",
       "      <td>Assoc-voc</td>\n",
       "      <td>11</td>\n",
       "      <td>Married-civ-spouse</td>\n",
       "      <td>Other-service</td>\n",
       "      <td>Husband</td>\n",
       "      <td>White</td>\n",
       "      <td>Male</td>\n",
       "      <td>0</td>\n",
       "      <td>0</td>\n",
       "      <td>60</td>\n",
       "      <td>United-States</td>\n",
       "      <td>&gt;50K</td>\n",
       "    </tr>\n",
       "    <tr>\n",
       "      <th>4</th>\n",
       "      <td>54</td>\n",
       "      <td>?</td>\n",
       "      <td>148657</td>\n",
       "      <td>Preschool</td>\n",
       "      <td>1</td>\n",
       "      <td>Married-civ-spouse</td>\n",
       "      <td>?</td>\n",
       "      <td>Wife</td>\n",
       "      <td>White</td>\n",
       "      <td>Female</td>\n",
       "      <td>0</td>\n",
       "      <td>0</td>\n",
       "      <td>40</td>\n",
       "      <td>Mexico</td>\n",
       "      <td>&lt;=50K</td>\n",
       "    </tr>\n",
       "  </tbody>\n",
       "</table>\n",
       "</div>"
      ],
      "text/plain": [
       "   age         workclass  fnlwgt     education  education.num  \\\n",
       "0   40  Self-emp-not-inc  223881   Prof-school             15   \n",
       "1   30           Private  149118       HS-grad              9   \n",
       "2   46           Private  109209  Some-college             10   \n",
       "3   32           Private  229566     Assoc-voc             11   \n",
       "4   54                 ?  148657     Preschool              1   \n",
       "\n",
       "       marital.status      occupation   relationship   race     sex  \\\n",
       "0  Married-civ-spouse  Prof-specialty        Husband  White    Male   \n",
       "1            Divorced    Craft-repair  Not-in-family  White  Female   \n",
       "2  Married-civ-spouse    Adm-clerical        Husband  White    Male   \n",
       "3  Married-civ-spouse   Other-service        Husband  White    Male   \n",
       "4  Married-civ-spouse               ?           Wife  White  Female   \n",
       "\n",
       "   capital.gain  capital.loss  hours.per.week native.country income  \n",
       "0         99999             0              70  United-States   >50K  \n",
       "1             0             0              40  United-States  <=50K  \n",
       "2             0             0              40  United-States   >50K  \n",
       "3             0             0              60  United-States   >50K  \n",
       "4             0             0              40         Mexico  <=50K  "
      ]
     },
     "execution_count": 104,
     "metadata": {},
     "output_type": "execute_result"
    }
   ],
   "source": [
    "df.head()"
   ]
  },
  {
   "cell_type": "code",
   "execution_count": 105,
   "metadata": {},
   "outputs": [
    {
     "name": "stdout",
     "output_type": "stream",
     "text": [
      "<class 'pandas.core.frame.DataFrame'>\n",
      "RangeIndex: 25000 entries, 0 to 24999\n",
      "Data columns (total 15 columns):\n",
      " #   Column          Non-Null Count  Dtype \n",
      "---  ------          --------------  ----- \n",
      " 0   age             25000 non-null  int64 \n",
      " 1   workclass       25000 non-null  object\n",
      " 2   fnlwgt          25000 non-null  int64 \n",
      " 3   education       25000 non-null  object\n",
      " 4   education.num   25000 non-null  int64 \n",
      " 5   marital.status  25000 non-null  object\n",
      " 6   occupation      25000 non-null  object\n",
      " 7   relationship    25000 non-null  object\n",
      " 8   race            25000 non-null  object\n",
      " 9   sex             25000 non-null  object\n",
      " 10  capital.gain    25000 non-null  int64 \n",
      " 11  capital.loss    25000 non-null  int64 \n",
      " 12  hours.per.week  25000 non-null  int64 \n",
      " 13  native.country  25000 non-null  object\n",
      " 14  income          25000 non-null  object\n",
      "dtypes: int64(6), object(9)\n",
      "memory usage: 2.9+ MB\n"
     ]
    }
   ],
   "source": [
    "df.info()"
   ]
  },
  {
   "cell_type": "code",
   "execution_count": 106,
   "metadata": {},
   "outputs": [
    {
     "data": {
      "text/plain": [
       "(25000, 15)"
      ]
     },
     "execution_count": 106,
     "metadata": {},
     "output_type": "execute_result"
    }
   ],
   "source": [
    "df.shape"
   ]
  },
  {
   "cell_type": "code",
   "execution_count": 107,
   "metadata": {},
   "outputs": [
    {
     "data": {
      "text/html": [
       "<div>\n",
       "<style scoped>\n",
       "    .dataframe tbody tr th:only-of-type {\n",
       "        vertical-align: middle;\n",
       "    }\n",
       "\n",
       "    .dataframe tbody tr th {\n",
       "        vertical-align: top;\n",
       "    }\n",
       "\n",
       "    .dataframe thead th {\n",
       "        text-align: right;\n",
       "    }\n",
       "</style>\n",
       "<table border=\"1\" class=\"dataframe\">\n",
       "  <thead>\n",
       "    <tr style=\"text-align: right;\">\n",
       "      <th></th>\n",
       "      <th>age</th>\n",
       "      <th>fnlwgt</th>\n",
       "      <th>education.num</th>\n",
       "      <th>capital.gain</th>\n",
       "      <th>capital.loss</th>\n",
       "      <th>hours.per.week</th>\n",
       "    </tr>\n",
       "  </thead>\n",
       "  <tbody>\n",
       "    <tr>\n",
       "      <th>count</th>\n",
       "      <td>25000.00000</td>\n",
       "      <td>2.500000e+04</td>\n",
       "      <td>25000.000000</td>\n",
       "      <td>25000.000000</td>\n",
       "      <td>25000.000000</td>\n",
       "      <td>25000.000000</td>\n",
       "    </tr>\n",
       "    <tr>\n",
       "      <th>mean</th>\n",
       "      <td>38.60916</td>\n",
       "      <td>1.896611e+05</td>\n",
       "      <td>10.076320</td>\n",
       "      <td>1083.144040</td>\n",
       "      <td>87.489800</td>\n",
       "      <td>40.442800</td>\n",
       "    </tr>\n",
       "    <tr>\n",
       "      <th>std</th>\n",
       "      <td>13.68660</td>\n",
       "      <td>1.054713e+05</td>\n",
       "      <td>2.576967</td>\n",
       "      <td>7321.971568</td>\n",
       "      <td>402.830246</td>\n",
       "      <td>12.309706</td>\n",
       "    </tr>\n",
       "    <tr>\n",
       "      <th>min</th>\n",
       "      <td>17.00000</td>\n",
       "      <td>1.228500e+04</td>\n",
       "      <td>1.000000</td>\n",
       "      <td>0.000000</td>\n",
       "      <td>0.000000</td>\n",
       "      <td>1.000000</td>\n",
       "    </tr>\n",
       "    <tr>\n",
       "      <th>25%</th>\n",
       "      <td>28.00000</td>\n",
       "      <td>1.179830e+05</td>\n",
       "      <td>9.000000</td>\n",
       "      <td>0.000000</td>\n",
       "      <td>0.000000</td>\n",
       "      <td>40.000000</td>\n",
       "    </tr>\n",
       "    <tr>\n",
       "      <th>50%</th>\n",
       "      <td>37.00000</td>\n",
       "      <td>1.782110e+05</td>\n",
       "      <td>10.000000</td>\n",
       "      <td>0.000000</td>\n",
       "      <td>0.000000</td>\n",
       "      <td>40.000000</td>\n",
       "    </tr>\n",
       "    <tr>\n",
       "      <th>75%</th>\n",
       "      <td>48.00000</td>\n",
       "      <td>2.370682e+05</td>\n",
       "      <td>12.000000</td>\n",
       "      <td>0.000000</td>\n",
       "      <td>0.000000</td>\n",
       "      <td>45.000000</td>\n",
       "    </tr>\n",
       "    <tr>\n",
       "      <th>max</th>\n",
       "      <td>90.00000</td>\n",
       "      <td>1.484705e+06</td>\n",
       "      <td>16.000000</td>\n",
       "      <td>99999.000000</td>\n",
       "      <td>4356.000000</td>\n",
       "      <td>99.000000</td>\n",
       "    </tr>\n",
       "  </tbody>\n",
       "</table>\n",
       "</div>"
      ],
      "text/plain": [
       "               age        fnlwgt  education.num  capital.gain  capital.loss  \\\n",
       "count  25000.00000  2.500000e+04   25000.000000  25000.000000  25000.000000   \n",
       "mean      38.60916  1.896611e+05      10.076320   1083.144040     87.489800   \n",
       "std       13.68660  1.054713e+05       2.576967   7321.971568    402.830246   \n",
       "min       17.00000  1.228500e+04       1.000000      0.000000      0.000000   \n",
       "25%       28.00000  1.179830e+05       9.000000      0.000000      0.000000   \n",
       "50%       37.00000  1.782110e+05      10.000000      0.000000      0.000000   \n",
       "75%       48.00000  2.370682e+05      12.000000      0.000000      0.000000   \n",
       "max       90.00000  1.484705e+06      16.000000  99999.000000   4356.000000   \n",
       "\n",
       "       hours.per.week  \n",
       "count    25000.000000  \n",
       "mean        40.442800  \n",
       "std         12.309706  \n",
       "min          1.000000  \n",
       "25%         40.000000  \n",
       "50%         40.000000  \n",
       "75%         45.000000  \n",
       "max         99.000000  "
      ]
     },
     "execution_count": 107,
     "metadata": {},
     "output_type": "execute_result"
    }
   ],
   "source": [
    "df.describe()"
   ]
  },
  {
   "cell_type": "markdown",
   "metadata": {},
   "source": [
    "- **age**: Wiek osoby.\n",
    "- **workclass**: Ogólny termin wskazujący status zatrudnienia osoby.\n",
    "- **fnlwgt**: Waga końcowa, reprezentująca liczbę osób, którą ta dana reprezentuje (próbka reprezentatywna).\n",
    "- **education**: Najwyższy poziom wykształcenia osiągnięty przez osobę.\n",
    "- **education.num**: Najwyższy poziom wykształcenia osiągnięty przez osobę w formie numerycznej.\n",
    "- **marital.status**: Status cywilny osoby. Zwróć uwagę, że \"Married-civ-spouse\" oznacza cywilnego małżonka, a \"Married-AF-spouse\" odnosi się do małżonka w Siłach Zbrojnych.\n",
    "- **occupation**: Ogólny typ zawodu osoby.\n",
    "- **relationship**: Relacja tej osoby z innymi, na przykład małżonek (mąż). Każdy punkt danych ma tylko jedną relację.\n",
    "- **race**: Rasa.\n",
    "- **sex**: Płeć biologiczna osoby.\n",
    "- **capital.gain**: Zyski kapitałowe osoby.\n",
    "- **capital.loss**: Straty kapitałowe osoby.\n",
    "- **hours.per.week**: Liczba godzin, które osoba zadeklarowała jako przepracowane w tygodniu.\n",
    "- **native.country**: Kraj pochodzenia.\n",
    "- **income**: Dochód, mniejszy lub równy $50,000 (`<=50K`) lub większy (`>50K`).\n"
   ]
  },
  {
   "cell_type": "code",
   "execution_count": 108,
   "metadata": {},
   "outputs": [],
   "source": [
    "def categorical_value_counts(data):\n",
    "    categorical_cols = data.select_dtypes(include=['object']).columns \n",
    "    value_counts = {col: data[col].value_counts() for col in categorical_cols}\n",
    "    return value_counts "
   ]
  },
  {
   "cell_type": "code",
   "execution_count": 109,
   "metadata": {},
   "outputs": [
    {
     "name": "stdout",
     "output_type": "stream",
     "text": [
      "\n",
      "Column: workclass\n",
      "workclass\n",
      "Private             17471\n",
      "Self-emp-not-inc     1935\n",
      "Local-gov            1553\n",
      "?                    1429\n",
      "State-gov            1004\n",
      "Self-emp-inc          851\n",
      "Federal-gov           740\n",
      "Without-pay            12\n",
      "Never-worked            5\n",
      "Name: count, dtype: int64\n",
      "\n",
      "Column: education\n",
      "education\n",
      "HS-grad         8025\n",
      "Some-college    5621\n",
      "Bachelors       4104\n",
      "Masters         1301\n",
      "Assoc-voc       1063\n",
      "11th             905\n",
      "Assoc-acdm       809\n",
      "10th             736\n",
      "7th-8th          476\n",
      "Prof-school      449\n",
      "9th              403\n",
      "12th             344\n",
      "Doctorate        328\n",
      "5th-6th          265\n",
      "1st-4th          135\n",
      "Preschool         36\n",
      "Name: count, dtype: int64\n",
      "\n",
      "Column: marital.status\n",
      "marital.status\n",
      "Married-civ-spouse       11518\n",
      "Never-married             8204\n",
      "Divorced                  3390\n",
      "Separated                  792\n",
      "Widowed                    766\n",
      "Married-spouse-absent      312\n",
      "Married-AF-spouse           18\n",
      "Name: count, dtype: int64\n",
      "\n",
      "Column: occupation\n",
      "occupation\n",
      "Prof-specialty       3198\n",
      "Craft-repair         3132\n",
      "Exec-managerial      3114\n",
      "Adm-clerical         2884\n",
      "Sales                2812\n",
      "Other-service        2524\n",
      "Machine-op-inspct    1535\n",
      "?                    1434\n",
      "Transport-moving     1202\n",
      "Handlers-cleaners    1076\n",
      "Farming-fishing       770\n",
      "Tech-support          714\n",
      "Protective-serv       490\n",
      "Priv-house-serv       109\n",
      "Armed-Forces            6\n",
      "Name: count, dtype: int64\n",
      "\n",
      "Column: relationship\n",
      "relationship\n",
      "Husband           10146\n",
      "Not-in-family      6345\n",
      "Own-child          3897\n",
      "Unmarried          2661\n",
      "Wife               1207\n",
      "Other-relative      744\n",
      "Name: count, dtype: int64\n",
      "\n",
      "Column: race\n",
      "race\n",
      "White                 21328\n",
      "Black                  2412\n",
      "Asian-Pac-Islander      799\n",
      "Amer-Indian-Eskimo      252\n",
      "Other                   209\n",
      "Name: count, dtype: int64\n",
      "\n",
      "Column: sex\n",
      "sex\n",
      "Male      16718\n",
      "Female     8282\n",
      "Name: count, dtype: int64\n",
      "\n",
      "Column: native.country\n",
      "native.country\n",
      "United-States                 22415\n",
      "Mexico                          502\n",
      "?                               437\n",
      "Philippines                     142\n",
      "Germany                         105\n",
      "Canada                           87\n",
      "Puerto-Rico                      85\n",
      "Cuba                             80\n",
      "India                            79\n",
      "El-Salvador                      75\n",
      "England                          68\n",
      "Jamaica                          67\n",
      "South                            63\n",
      "China                            58\n",
      "Vietnam                          57\n",
      "Dominican-Republic               57\n",
      "Italy                            51\n",
      "Guatemala                        49\n",
      "Japan                            48\n",
      "Columbia                         47\n",
      "Poland                           46\n",
      "Taiwan                           39\n",
      "Haiti                            33\n",
      "Portugal                         29\n",
      "Ecuador                          25\n",
      "Nicaragua                        24\n",
      "Iran                             23\n",
      "Peru                             23\n",
      "France                           22\n",
      "Greece                           18\n",
      "Trinadad&Tobago                  17\n",
      "Hong                             15\n",
      "Cambodia                         15\n",
      "Thailand                         15\n",
      "Ireland                          14\n",
      "Laos                             14\n",
      "Yugoslavia                       12\n",
      "Outlying-US(Guam-USVI-etc)       12\n",
      "Hungary                          11\n",
      "Scotland                         11\n",
      "Honduras                         10\n",
      "Name: count, dtype: int64\n",
      "\n",
      "Column: income\n",
      "income\n",
      "<=50K    18955\n",
      ">50K      6045\n",
      "Name: count, dtype: int64\n"
     ]
    }
   ],
   "source": [
    "# Załóżmy, że masz DataFrame o nazwie data\n",
    "value_counts = categorical_value_counts(df)\n",
    "\n",
    "# Wyświetlenie wyników\n",
    "for col, counts in value_counts.items():\n",
    "    print(f\"\\nColumn: {col}\")\n",
    "    print(counts)\n"
   ]
  },
  {
   "cell_type": "code",
   "execution_count": 110,
   "metadata": {},
   "outputs": [],
   "source": [
    "# Funkcja do obliczania V-Cramera\n",
    "def cramers_v(confusion_matrix):\n",
    "    chi2 = chi2_contingency(confusion_matrix)[0]\n",
    "    n = confusion_matrix.sum().sum()\n",
    "    min_dim = min(confusion_matrix.shape) - 1\n",
    "    return np.sqrt(chi2 / (n * min_dim))\n",
    "\n",
    "def cramers_v_output(v_cramer, variable1, variable2):\n",
    "    print(f\"V-Cramer dla zmiennych {variable1} & {variable2}: {v_cramer}\")\n",
    "\n",
    "    # Interpretacja wyniku\n",
    "    if v_cramer < 0.1:\n",
    "        print(\"Bardzo słaba zależność\")\n",
    "    elif v_cramer < 0.3:\n",
    "        print(\"Słaba zależność\")\n",
    "    elif v_cramer < 0.5:\n",
    "        print(\"Umiarkowana zależność\")\n",
    "    else:\n",
    "        print(\"Silna zależność\")"
   ]
  },
  {
   "cell_type": "code",
   "execution_count": 111,
   "metadata": {},
   "outputs": [
    {
     "name": "stdout",
     "output_type": "stream",
     "text": [
      "V-Cramer dla zmiennych relationship & marital.status: 0.4890628765894769\n",
      "Umiarkowana zależność\n"
     ]
    }
   ],
   "source": [
    "# Utworzenie macierzy contingency\n",
    "contingency_table = pd.crosstab(df['relationship'], df['marital.status'])\n",
    "# Obliczenie V-Cramera\n",
    "v_cramer = cramers_v(contingency_table)\n",
    "cramers_v_output(v_cramer, 'relationship', 'marital.status')"
   ]
  },
  {
   "cell_type": "code",
   "execution_count": 112,
   "metadata": {},
   "outputs": [
    {
     "name": "stdout",
     "output_type": "stream",
     "text": [
      "V-Cramer dla zmiennych workclass & occupation: 0.39858811874024\n",
      "Umiarkowana zależność\n"
     ]
    }
   ],
   "source": [
    "contingency_table = pd.crosstab(df['workclass'], df['occupation'])\n",
    "# Obliczenie V-Cramera\n",
    "v_cramer = cramers_v(contingency_table)\n",
    "cramers_v_output(v_cramer, 'workclass', 'occupation')\n"
   ]
  },
  {
   "cell_type": "code",
   "execution_count": 113,
   "metadata": {},
   "outputs": [
    {
     "name": "stdout",
     "output_type": "stream",
     "text": [
      "V-Cramer dla zmiennych race & native.country: 0.41116173339470086\n",
      "Umiarkowana zależność\n"
     ]
    }
   ],
   "source": [
    "# Utworzenie macierzy contingency\n",
    "contingency_table = pd.crosstab(df['race'], df['native.country'])\n",
    "\n",
    "# Obliczenie V-Cramera\n",
    "v_cramer = cramers_v(contingency_table)\n",
    "cramers_v_output(v_cramer, 'race', 'native.country')\n"
   ]
  },
  {
   "cell_type": "code",
   "execution_count": 114,
   "metadata": {},
   "outputs": [
    {
     "data": {
      "image/png": "[encoded data removed]",
      "text/plain": [
       "<Figure size 800x500 with 1 Axes>"
      ]
     },
     "metadata": {},
     "output_type": "display_data"
    }
   ],
   "source": [
    "plt.figure(figsize=(8, 5))\n",
    "df['income'].value_counts().plot(kind='bar', color='skyblue', edgecolor='black')\n",
    "\n",
    "plt.title('Rozkład zmiennej Income', fontsize=14)\n",
    "plt.xlabel('Income', fontsize=12)\n",
    "plt.ylabel('Liczba wystąpień', fontsize=12)\n",
    "plt.xticks(rotation=0)  # Ustawienie etykiet osi X poziomo\n",
    "\n",
    "# Wyświetlenie wykresu\n",
    "plt.show()\n"
   ]
  },
  {
   "cell_type": "code",
   "execution_count": 115,
   "metadata": {},
   "outputs": [
    {
     "name": "stdout",
     "output_type": "stream",
     "text": [
      "Klasa pozytywna to: 24.18% zbioru danych.\n"
     ]
    }
   ],
   "source": [
    "print(f\"Klasa pozytywna to: {df['income'].value_counts()[1] / (df['income'].value_counts()[0] + df['income'].value_counts()[1]) * 100}% zbioru danych.\")"
   ]
  },
  {
   "cell_type": "code",
   "execution_count": 116,
   "metadata": {},
   "outputs": [
    {
     "name": "stdout",
     "output_type": "stream",
     "text": [
      "count    25000.000000\n",
      "mean       995.654240\n",
      "std       7345.956408\n",
      "min      -4356.000000\n",
      "25%          0.000000\n",
      "50%          0.000000\n",
      "75%          0.000000\n",
      "max      99999.000000\n",
      "Name: net.capital, dtype: float64\n",
      "   capital.gain  capital.loss  net.capital\n",
      "0         99999             0        99999\n",
      "1             0             0            0\n",
      "2             0             0            0\n",
      "3             0             0            0\n",
      "4             0             0            0\n"
     ]
    }
   ],
   "source": [
    "# Utworzenie nowej zmiennej jako różnicy między capital.gain i capital.loss\n",
    "df['net.capital'] = df['capital.gain'] - df['capital.loss']\n",
    "\n",
    "# Sprawdzenie statystyk nowej zmiennej\n",
    "print(df['net.capital'].describe())\n",
    "\n",
    "# Podgląd wartości\n",
    "print(df[['capital.gain', 'capital.loss', 'net.capital']].head())"
   ]
  },
  {
   "cell_type": "code",
   "execution_count": 117,
   "metadata": {},
   "outputs": [
    {
     "name": "stdout",
     "output_type": "stream",
     "text": [
      "21719\n"
     ]
    }
   ],
   "source": [
    "print((df['net.capital'] == 0).sum())"
   ]
  },
  {
   "cell_type": "code",
   "execution_count": 118,
   "metadata": {},
   "outputs": [
    {
     "data": {
      "image/png": "[encoded data removed]",
      "text/plain": [
       "<Figure size 800x500 with 1 Axes>"
      ]
     },
     "metadata": {},
     "output_type": "display_data"
    }
   ],
   "source": [
    "plt.figure(figsize=(8, 5))\n",
    "plt.hist(df['net.capital'], color='skyblue')\n",
    "\n",
    "plt.title(\"Histogram zmiennej Net Capital\", fontsize=14)\n",
    "plt.xlabel(\"Net Capital\", fontsize=12)\n",
    "plt.ylabel(\"Liczba wysątpień\", fontsize=12)\n",
    "\n",
    "plt.show()"
   ]
  },
  {
   "cell_type": "code",
   "execution_count": 119,
   "metadata": {},
   "outputs": [
    {
     "name": "stdout",
     "output_type": "stream",
     "text": [
      "                workclass  education  marital.status  occupation  \\\n",
      "workclass        1.000000   0.100657        0.084840    0.398588   \n",
      "education        0.100657   1.000000        0.090707    0.188135   \n",
      "marital.status   0.084840   0.090707        1.000000    0.133396   \n",
      "occupation       0.398588   0.188135        0.133396    1.000000   \n",
      "relationship     0.098284   0.122701        0.489063    0.179059   \n",
      "race             0.058059   0.075826        0.083431    0.085035   \n",
      "sex              0.154415   0.096024        0.463503    0.421915   \n",
      "native.country   0.048455   0.136863        0.075921    0.076881   \n",
      "income           0.178589   0.371728        0.445960    0.354144   \n",
      "\n",
      "                relationship      race       sex  native.country    income  \n",
      "workclass           0.098284  0.058059  0.154415        0.048455  0.178589  \n",
      "education           0.122701  0.075826  0.096024        0.136863  0.371728  \n",
      "marital.status      0.489063  0.083431  0.463503        0.075921  0.445960  \n",
      "occupation          0.179059  0.085035  0.421915        0.076881  0.354144  \n",
      "relationship        1.000000  0.096536  0.651142        0.089778  0.452270  \n",
      "race                0.096536  1.000000  0.114533        0.411162  0.097241  \n",
      "sex                 0.651142  0.114533  1.000000        0.068055  0.215370  \n",
      "native.country      0.089778  0.411162  0.068055        1.000000  0.102736  \n",
      "income              0.452270  0.097241  0.215370        0.102736  1.000000  \n"
     ]
    }
   ],
   "source": [
    "import pandas as pd\n",
    "import numpy as np\n",
    "from scipy.stats import chi2_contingency\n",
    "\n",
    "# Funkcja do obliczania współczynnika Craméra V\n",
    "def cramers_v(x, y):\n",
    "    contingency_table = pd.crosstab(x, y)  # Tabela kontyngencji\n",
    "    chi2, _, _, _ = chi2_contingency(contingency_table)  # Oblicz statystykę chi-kwadrat\n",
    "    n = contingency_table.sum().sum()  # Liczba obserwacji\n",
    "    return np.sqrt(chi2 / (n * (min(contingency_table.shape) - 1)))\n",
    "\n",
    "# Tworzenie macierzy korelacji dla zmiennych kategorycznych\n",
    "categorical_cols = df.select_dtypes(include=['object']).columns  # Wybieramy zmienne kategoryczne\n",
    "correlation_matrix = pd.DataFrame(index=categorical_cols, columns=categorical_cols)\n",
    "\n",
    "for col1 in categorical_cols:\n",
    "    for col2 in categorical_cols:\n",
    "        if col1 == col2:\n",
    "            correlation_matrix.loc[col1, col2] = 1.0  # Korelacja ze sobą = 1\n",
    "        else:\n",
    "            correlation_matrix.loc[col1, col2] = cramers_v(df[col1], df[col2])\n",
    "\n",
    "# Konwersja do typu float i wyświetlenie\n",
    "correlation_matrix = correlation_matrix.astype(float)\n",
    "print(correlation_matrix)\n"
   ]
  },
  {
   "cell_type": "code",
   "execution_count": 120,
   "metadata": {},
   "outputs": [
    {
     "name": "stdout",
     "output_type": "stream",
     "text": [
      "IV for var1: 0.1601385533935683, IV for var2: 0.7627724797618373\n"
     ]
    }
   ],
   "source": [
    "def calculate_woe_iv(data, feature, target):\n",
    "    df = pd.DataFrame()\n",
    "    df['count'] = data.groupby(feature)[target].count()\n",
    "    df['good'] = data[data[target] == '>50K'].groupby(feature)[target].count()\n",
    "    df['bad'] = df['count'] - df['good']\n",
    "    df['good_dist'] = df['good'] / df['good'].sum()\n",
    "    df['bad_dist'] = df['bad'] / df['bad'].sum()\n",
    "    df['woe'] = np.log((df['good_dist'] + 1e-6) / (df['bad_dist'] + 1e-6))\n",
    "    df['iv'] = (df['good_dist'] - df['bad_dist']) * df['woe']\n",
    "    return df['iv'].sum()\n",
    "\n",
    "iv_var1 = calculate_woe_iv(df, 'workclass', 'income')\n",
    "iv_var2 = calculate_woe_iv(df, 'occupation', 'income')\n",
    "print(f\"IV for var1: {iv_var1}, IV for var2: {iv_var2}\")\n"
   ]
  },
  {
   "cell_type": "code",
   "execution_count": 121,
   "metadata": {},
   "outputs": [
    {
     "name": "stdout",
     "output_type": "stream",
     "text": [
      "IV for var1: 1.5333397043641683, IV for var2: 1.329846662021718\n"
     ]
    }
   ],
   "source": [
    "iv_var1 = calculate_woe_iv(df, 'relationship', 'income')\n",
    "iv_var2 = calculate_woe_iv(df, 'marital.status', 'income')\n",
    "print(f\"IV for var1: {iv_var1}, IV for var2: {iv_var2}\")"
   ]
  },
  {
   "cell_type": "code",
   "execution_count": 122,
   "metadata": {},
   "outputs": [
    {
     "name": "stdout",
     "output_type": "stream",
     "text": [
      "IV for var1: 0.06348640955304106, IV for var2: 0.07871601974692946\n"
     ]
    }
   ],
   "source": [
    "iv_var1 = calculate_woe_iv(df, 'race', 'income')\n",
    "iv_var2 = calculate_woe_iv(df, 'native.country', 'income')\n",
    "print(f\"IV for var1: {iv_var1}, IV for var2: {iv_var2}\")"
   ]
  },
  {
   "cell_type": "code",
   "execution_count": null,
   "metadata": {},
   "outputs": [],
   "source": []
  }
 ],
 "metadata": {
  "kernelspec": {
   "display_name": "base",
   "language": "python",
   "name": "python3"
  },
  "language_info": {
   "codemirror_mode": {
    "name": "ipython",
    "version": 3
   },
   "file_extension": ".py",
   "mimetype": "text/x-python",
   "name": "python",
   "nbconvert_exporter": "python",
   "pygments_lexer": "ipython3",
   "version": "3.9.12"
  }
 },
 "nbformat": 4,
 "nbformat_minor": 2
}

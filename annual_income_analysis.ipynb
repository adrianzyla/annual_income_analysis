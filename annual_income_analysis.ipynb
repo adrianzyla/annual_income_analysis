{
 "cells": [
  {
   "cell_type": "code",
   "execution_count": null,
   "metadata": {
    "vscode": {
     "languageId": "plaintext"
    }
   },
   "outputs": [],
   "source": [
    "import pandas as pd\n",
    "import numpy as np\n",
    "import matplotlib.pyplot as plt\n",
    "import seaborn as sns\n"
   ]
  },
  {
   "cell_type": "code",
   "execution_count": null,
   "metadata": {
    "vscode": {
     "languageId": "plaintext"
    }
   },
   "outputs": [],
   "source": [
    "columns = [\n",
    "    'age', \n",
    "    'workclass', \n",
    "    'fnlwgt', \n",
    "    'education', \n",
    "    'education-num', \n",
    "    'marital-status', \n",
    "    'occupation', \n",
    "    'relationship', \n",
    "    'race', \n",
    "    'sex', \n",
    "    'capital-gain', \n",
    "    'capital-loss', \n",
    "    'hours-per-week', \n",
    "    'native-country', \n",
    "    'income'\n",
    "]\n",
    "\n",
    "df = pd.read_csv('./adult/adult.data', names=columns)"
   ]
  }
 ],
 "metadata": {
  "language_info": {
   "name": "python"
  }
 },
 "nbformat": 4,
 "nbformat_minor": 2
}
